{
 "cells": [
  {
   "cell_type": "markdown",
   "metadata": {},
   "source": [
    "# PyObject:  Object-oriented programming HW"
   ]
  },
  {
   "cell_type": "markdown",
   "metadata": {},
   "source": [
    "## Exercise 1  (from Monday's class)"
   ]
  },
  {
   "cell_type": "markdown",
   "metadata": {},
   "source": [
    "1. Write a ``Particle`` class that can be used to represent a particle with a mass, a 3-d position, and a 3-d velocity.\n",
    "\n",
    "2. Write a method that can be used to compute the kinetic energy of the particle\n",
    "\n",
    "3. Write a method that takes another particle as an argument and finds the distance between the two particles\n",
    "\n",
    "4. Write a method that given a time interval ``dt`` will update the position of the particle to the new position based on the current position and velocity.\n",
    "\n",
    "5. Write a ``ChargedParticle`` class that inherits from the ``Particle`` class, but also has an attribute for the charge of the particle.\n"
   ]
  },
  {
   "cell_type": "code",
   "execution_count": null,
   "metadata": {},
   "outputs": [],
   "source": [
    "import numpy as np\n",
    "# your solution here\n",
    "\n",
    "class ChargedParticle(Particle):\n",
    "\n",
    "    def __init__(self, mass, x, y, z, vx, vy, vz, charge):\n",
    "        self.mass = mass\n",
    "        self.x = x\n",
    "        self.y = y\n",
    "        self.z = z\n",
    "        self.vx = vx\n",
    "        self.vy = vy\n",
    "        self.vz = vz\n",
    "        self.charge = charge\n"
   ]
  },
  {
   "cell_type": "code",
   "execution_count": 6,
   "metadata": {},
   "outputs": [],
   "source": [
    "\n",
    "# write/copy code here\n",
    "#1 \n",
    "import numpy as np\n",
    "\n",
    "class Particle(object):\n",
    "    def __init__(self, mass, x, y, z, vx, vy, vz):\n",
    "        self.mass = mass\n",
    "        self.x = x\n",
    "        self.y = y\n",
    "        self.z = z\n",
    "        self.vx = vx            \n",
    "        self.vy = vy\n",
    "        self.vz = vz\n",
    "#2\n",
    "    def KE(self):\n",
    "        print(0.5*self.mass*(self.vx**2 + self.vy**2 + self.vz**2))\n",
    "#3\n",
    "\n",
    "    def find_distance(self, other):\n",
    "        print(np.sqrt((self.x - other.x)**2 + (self.y - other.y)**2 + (self.z - other.z)**2))\n",
    "#4\n",
    "    def newposition(self, dt):\n",
    "        self.x = self.x + self.vx * dt\n",
    "        self.y = self.y + self.vy * dt\n",
    "        self.z = self.z + self.vz * dt\n",
    "#5\n",
    "class ChargedParticle(Particle):\n",
    "    def __init__(self, mass, x, y, z, vx, vy, vz, charge):\n",
    "        super().__init__(mass, x, y, z, vx, vy, vz)\n",
    "        self.charge = charge"
   ]
  },
  {
   "cell_type": "code",
   "execution_count": 11,
   "metadata": {},
   "outputs": [
    {
     "name": "stdout",
     "output_type": "stream",
     "text": [
      "1.5\n",
      "1.7320508075688772\n",
      "3 3 3\n",
      "3.4641016151377544\n"
     ]
    }
   ],
   "source": [
    "p1 = Particle(1,1,1,1,1,1,1)\n",
    "p2 = Particle(1,2,2,2,1,1,1)\n",
    "p1.KE()\n",
    "p1.find_distance(p2)\n",
    "p2.newposition(1)\n",
    "print(p2.x,p2.y,p2.z)\n",
    "p1.find_distance(p2)"
   ]
  },
  {
   "cell_type": "markdown",
   "metadata": {},
   "source": [
    "## Exercise 2  (New)"
   ]
  },
  {
   "cell_type": "markdown",
   "metadata": {},
   "source": [
    "6. Write a method that can be used to see if a particle is in the same place (e.g., find_seperation < 0.25).  If there are two ChargedParticles in the same place make a \"simple\" (*not correct physics*) \"interaction\". (__have the code print \"interaction\"__).   \n",
    "\n",
    "    a. If the charges are opposite, make them \"combine\", set both velocities to zero and set their charge to zero, and print \"merge\".\n",
    "\n",
    "    b. Else, make the particles \"repel\", to do:\n",
    "    \n",
    "        multiply each \"self\" velocity and  by (-1 * (self.charge+other.charge) * (self.mass/other.mass))  \n",
    "    \n",
    "        multiply each \"other\" velocity by (-1 * (self.charge+other.charge) * (other.mass/self.mass)) \n",
    "    \n",
    "    e.g., reversing it's velocity, and print \"repel\". __(Again this is bad physics, but we are focusing on coding so play along.)__\n",
    "\n",
    "\n",
    "7. To test the above, write a code with two particles starting:\n",
    "\n",
    "        P1 at (x,y,z) = (-5,-5,-5) with (vx,vy,vz) = (1,1,1) and (charge = 0.5) \n",
    "\n",
    "        P2 at (x,y,z) = (5,5,5) with (vx,vy,vz) = (-1,-1,-1) and (charge = -0.5).  \n",
    "\n",
    "    Use your dt time interval to move the particles in 0.25 time steps for 100 steps, and print the current poition and velocity of each particle at each time step.  \n",
    "    \n",
    "\n",
    "8. To test the above, write a code with two particles starting: \n",
    "\n",
    "        P1 at (x,y,z) = (-5,-5,-5) with (vx,vy,vz) = (2,2,2) and (charge = 0.5) \n",
    "\n",
    "        P2 at (x,y,z) = (5,5,5) with (vx,vy,vz) = (-2,-2,-2) and (charge = 2.0).  \n",
    "\n",
    "    Use your dt time interval to move the particles in 0.25 time steps for 100 steps, and print the current poition and velocity of each particle at each time step.  \n"
   ]
  },
  {
   "cell_type": "code",
   "execution_count": 7,
   "metadata": {},
   "outputs": [
    {
     "ename": "AttributeError",
     "evalue": "'ChargedParticle' object has no attribute 'position'",
     "output_type": "error",
     "traceback": [
      "\u001b[1;31m---------------------------------------------------------------------------\u001b[0m",
      "\u001b[1;31mAttributeError\u001b[0m                            Traceback (most recent call last)",
      "Cell \u001b[1;32mIn[7], line 31\u001b[0m\n\u001b[0;32m     28\u001b[0m             \u001b[38;5;28mself\u001b[39m\u001b[38;5;241m.\u001b[39mposition[i] \u001b[38;5;241m+\u001b[39m\u001b[38;5;241m=\u001b[39m \u001b[38;5;28mself\u001b[39m\u001b[38;5;241m.\u001b[39mvelocity[i] \u001b[38;5;241m*\u001b[39m dt\n\u001b[0;32m     29\u001b[0m         \u001b[38;5;28mprint\u001b[39m(\u001b[38;5;124mf\u001b[39m\u001b[38;5;124m\"\u001b[39m\u001b[38;5;124mPosition: \u001b[39m\u001b[38;5;132;01m{\u001b[39;00m\u001b[38;5;28mself\u001b[39m\u001b[38;5;241m.\u001b[39mposition\u001b[38;5;132;01m}\u001b[39;00m\u001b[38;5;124m, Velocity: \u001b[39m\u001b[38;5;132;01m{\u001b[39;00m\u001b[38;5;28mself\u001b[39m\u001b[38;5;241m.\u001b[39mvelocity\u001b[38;5;132;01m}\u001b[39;00m\u001b[38;5;124m\"\u001b[39m)\n\u001b[1;32m---> 31\u001b[0m firstparticle \u001b[38;5;241m=\u001b[39m ChargedParticle(\u001b[38;5;241m-\u001b[39m\u001b[38;5;241m5\u001b[39m, \u001b[38;5;241m-\u001b[39m\u001b[38;5;241m5\u001b[39m, \u001b[38;5;241m-\u001b[39m\u001b[38;5;241m5\u001b[39m, \u001b[38;5;241m1\u001b[39m, \u001b[38;5;241m1\u001b[39m, \u001b[38;5;241m1\u001b[39m, \u001b[38;5;241m0.5\u001b[39m)\n\u001b[0;32m     32\u001b[0m secondparticle \u001b[38;5;241m=\u001b[39m ChargedParticle(\u001b[38;5;241m5\u001b[39m, \u001b[38;5;241m5\u001b[39m, \u001b[38;5;241m5\u001b[39m, \u001b[38;5;241m-\u001b[39m\u001b[38;5;241m1\u001b[39m, \u001b[38;5;241m-\u001b[39m\u001b[38;5;241m1\u001b[39m, \u001b[38;5;241m-\u001b[39m\u001b[38;5;241m1\u001b[39m, \u001b[38;5;241m-\u001b[39m\u001b[38;5;241m0.5\u001b[39m)\n\u001b[0;32m     33\u001b[0m dt \u001b[38;5;241m=\u001b[39m \u001b[38;5;241m0.25\u001b[39m  \u001b[38;5;66;03m#change in steps\u001b[39;00m\n",
      "Cell \u001b[1;32mIn[7], line 5\u001b[0m, in \u001b[0;36mChargedParticle.__init__\u001b[1;34m(self, x, y, z, vx, vy, vz, charge)\u001b[0m\n\u001b[0;32m      4\u001b[0m \u001b[38;5;28;01mdef\u001b[39;00m \u001b[38;5;21m__init__\u001b[39m(\u001b[38;5;28mself\u001b[39m, x, y, z, vx, vy, vz, charge):\n\u001b[1;32m----> 5\u001b[0m     \u001b[38;5;28mself\u001b[39m\u001b[38;5;241m.\u001b[39mposition[x,y,z]\n\u001b[0;32m      6\u001b[0m     \u001b[38;5;28mself\u001b[39m\u001b[38;5;241m.\u001b[39mvelocity[vx,vy,vz]\n\u001b[0;32m      7\u001b[0m     \u001b[38;5;28mself\u001b[39m\u001b[38;5;241m.\u001b[39mcharge \u001b[38;5;241m=\u001b[39m charge\n",
      "\u001b[1;31mAttributeError\u001b[0m: 'ChargedParticle' object has no attribute 'position'"
     ]
    }
   ],
   "source": [
    "# write new code here\n",
    "#a \n",
    "class ChargedParticle(Particle):\n",
    "    def __init__(self, x, y, z, vx, vy, vz, charge):\n",
    "        self.position[x,y,z]\n",
    "        self.velocity[vx,vy,vz]\n",
    "        self.charge = charge\n",
    "        \n",
    "    def interaction(self, other):\n",
    "        separation = -1 * (self.charge+other.charge) * (self.mass/other.mass)\n",
    "        if separation < 0.25: #determining if particle is in the same palce\n",
    "            print(\"Separation Interaction:\", separation)\n",
    "            if self.charge * other.charge < 0:  #check if they are opposite charges\n",
    "                print(\"Merge\")\n",
    "                self.velocity = [0.0, 0.0, 0.0]  #setting both self and velocity equal to 0\n",
    "                other.velocity = [0.0, 0.0, 0.0]\n",
    "                self.charge = 0.0\n",
    "                other.charge = 0.0\n",
    "            else:\n",
    "                print(\"Repel\")\n",
    "                selfrepel = -1 * (self.charge + other.charge)\n",
    "                otherrepel = -1 * (self.charge + other.charge)\n",
    "                self.velocity = [v * factor_self for v in self.velocity]\n",
    "                other.velocity = [v * factor_other for v in other.velocity]\n",
    "\n",
    "    def update_position(self, dt):\n",
    "        for i in range(10):\n",
    "            self.position[i] += self.velocity[i] * dt\n",
    "        print(f\"Position: {self.position}, Velocity: {self.velocity}\")\n",
    "\n",
    "firstparticle = ChargedParticle(-5, -5, -5, 1, 1, 1, 0.5)\n",
    "secondparticle = ChargedParticle(5, 5, 5, -1, -1, -1, -0.5)\n",
    "dt = 0.25  #change in steps\n",
    "for _ in range(100):\n",
    "    firstparticle.update_position(dt)\n",
    "    secondparticle.update_position(dt)\n",
    "    firstparticle.interaction(secondparticle)\n",
    "\n",
    "\n",
    "thirdparticle = ChargedParticle(-5, -5, -5, 2, 2, 2, 0.5)\n",
    "fourthparticle = ChargedParticle(5, 5, 5, -2, -2, -2, 2.0)\n",
    "for _ in range(100):\n",
    "    thirdparticle.update_position(dt)\n",
    "    fourthparticle.update_position(dt)\n",
    "    thirdparticle.interaction(fourthparticle)"
   ]
  },
  {
   "cell_type": "code",
   "execution_count": null,
   "metadata": {},
   "outputs": [],
   "source": []
  }
 ],
 "metadata": {
  "kernelspec": {
   "display_name": "Python 3 (ipykernel)",
   "language": "python",
   "name": "python3"
  },
  "language_info": {
   "codemirror_mode": {
    "name": "ipython",
    "version": 3
   },
   "file_extension": ".py",
   "mimetype": "text/x-python",
   "name": "python",
   "nbconvert_exporter": "python",
   "pygments_lexer": "ipython3",
   "version": "3.11.4"
  }
 },
 "nbformat": 4,
 "nbformat_minor": 2
}
